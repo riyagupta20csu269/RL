{
  "nbformat": 4,
  "nbformat_minor": 0,
  "metadata": {
    "colab": {
      "provenance": [],
      "authorship_tag": "ABX9TyNsiFqzxPetsZJ8OwcIGnve",
      "include_colab_link": true
    },
    "kernelspec": {
      "name": "python3",
      "display_name": "Python 3"
    },
    "language_info": {
      "name": "python"
    }
  },
  "cells": [
    {
      "cell_type": "markdown",
      "metadata": {
        "id": "view-in-github",
        "colab_type": "text"
      },
      "source": [
        "<a href=\"https://colab.research.google.com/github/riyagupta20csu269/RL/blob/main/Policy_and_value_iteration.ipynb\" target=\"_parent\"><img src=\"https://colab.research.google.com/assets/colab-badge.svg\" alt=\"Open In Colab\"/></a>"
      ]
    },
    {
      "cell_type": "code",
      "execution_count": null,
      "metadata": {
        "id": "lxJYPpk0nAJO"
      },
      "outputs": [],
      "source": [
        "import numpy as np\n",
        "\n",
        "states=[0,1,2,3,4]\n",
        "actions=[0,1]\n",
        "N_STATES=len(states)\n",
        "N_ACTIONS=len(actions)\n",
        "P=np.zeros((N_STATES,N_ACTIONS,N_STATES))\n",
        "R=np.zeros((N_STATES,N_ACTIONS,N_STATES))"
      ]
    },
    {
      "cell_type": "code",
      "source": [
        "P[0,0,1]=1.0\n",
        "P[1,1,2]=1.0\n",
        "P[2,0,3]=1.0\n",
        "P[3,1,4]=1.0\n",
        "P[4,0,4]=1.0"
      ],
      "metadata": {
        "id": "ztL45RGEoUnQ"
      },
      "execution_count": null,
      "outputs": []
    },
    {
      "cell_type": "code",
      "source": [
        "R[0,0,1]=1\n",
        "R[1,1,2]=10\n",
        "R[2,0,3]=100\n",
        "R[3,1,4]=1000\n",
        "R[4,0,4]=1.0"
      ],
      "metadata": {
        "id": "Evw2QQIword2"
      },
      "execution_count": null,
      "outputs": []
    },
    {
      "cell_type": "code",
      "source": [
        "gamma=0.75\n",
        "\n",
        "policy=[0 for s in range(N_STATES)]\n",
        "V=np.zeros(N_STATES)\n",
        "\n",
        "print(\"intitial policy\",policy)"
      ],
      "metadata": {
        "colab": {
          "base_uri": "https://localhost:8080/"
        },
        "id": "Arwmvoe9pkSv",
        "outputId": "990d2d92-541f-427c-a553-250343d45237"
      },
      "execution_count": null,
      "outputs": [
        {
          "output_type": "stream",
          "name": "stdout",
          "text": [
            "intitial policy [0, 0, 0, 0, 0]\n"
          ]
        }
      ]
    },
    {
      "cell_type": "code",
      "source": [
        "is_value_changed=True\n",
        "iterations = 0\n",
        "while is_value_changed:\n",
        "  is_value_changed=False\n",
        "  iterations+=1\n",
        "\n",
        "  for s in range(N_STATES):\n",
        "    V[s]=sum([P[s,policy[s],s1]*(R[s,policy[s],s1]+gamma*V[s1]) for s1 in range(N_STATES)])\n",
        "  \n",
        "  for s in range(N_STATES):\n",
        "    q_best=V[s]\n",
        "    for a in range(N_STATES):\n",
        "      q_sa=sum([P[s,policy[s],s1]*(R[s,policy[s],s1]+gamma*V[s1]) for s1 in range(N_STATES)])\n",
        "      if q_sa>q_best:\n",
        "        print(\"State\",s,\": q_sa\",q_sa,\"q_best\",q_best)\n",
        "        policy[s]=a\n",
        "        q_best=q_sa\n",
        "        is_value_changed=True\n",
        "\n",
        "  print(\"Iterations\",iterations)\n",
        "\n",
        "print(\"final policy\")\n",
        "print(policy)\n",
        "print(V)"
      ],
      "metadata": {
        "colab": {
          "base_uri": "https://localhost:8080/"
        },
        "id": "l9VzBy0uqand",
        "outputId": "f943a021-0702-4cdc-cbda-c909a922c31f"
      },
      "execution_count": null,
      "outputs": [
        {
          "output_type": "stream",
          "name": "stdout",
          "text": [
            "Iterations 1\n",
            "final policy\n",
            "[0, 0, 0, 0, 0]\n",
            "[  1.   0. 100.   0.   4.]\n"
          ]
        }
      ]
    },
    {
      "cell_type": "code",
      "source": [],
      "metadata": {
        "colab": {
          "base_uri": "https://localhost:8080/"
        },
        "id": "7gz5nUt8uBUy",
        "outputId": "aec44e96-c3d9-4252-d641-997289f56014"
      },
      "execution_count": null,
      "outputs": [
        {
          "output_type": "stream",
          "name": "stdout",
          "text": [
            "final policy\n",
            "[0, 0, 0, 0, 0]\n",
            "[  1.   0. 100.   0.   4.]\n"
          ]
        }
      ]
    },
    {
      "cell_type": "code",
      "source": [],
      "metadata": {
        "id": "PuYVTxlsu0iy"
      },
      "execution_count": null,
      "outputs": []
    }
  ]
}