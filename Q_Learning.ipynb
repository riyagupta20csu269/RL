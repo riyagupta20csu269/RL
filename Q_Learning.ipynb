{
  "nbformat": 4,
  "nbformat_minor": 0,
  "metadata": {
    "colab": {
      "provenance": [],
      "authorship_tag": "ABX9TyPmRmbGaMecEtV7yrl/o8ss",
      "include_colab_link": true
    },
    "kernelspec": {
      "name": "python3",
      "display_name": "Python 3"
    },
    "language_info": {
      "name": "python"
    }
  },
  "cells": [
    {
      "cell_type": "markdown",
      "metadata": {
        "id": "view-in-github",
        "colab_type": "text"
      },
      "source": [
        "<a href=\"https://colab.research.google.com/github/riyagupta20csu269/RL/blob/main/Q_Learning.ipynb\" target=\"_parent\"><img src=\"https://colab.research.google.com/assets/colab-badge.svg\" alt=\"Open In Colab\"/></a>"
      ]
    },
    {
      "cell_type": "code",
      "execution_count": 2,
      "metadata": {
        "id": "hgJowmMQZGgM"
      },
      "outputs": [],
      "source": [
        "import numpy as np\n",
        "# R matrix\n",
        "R=np.matrix([[-1,-1,-1,-1,0,-1],\n",
        "             [-1,-1,-1,0,-1,100],\n",
        "             [-1,-1,-1,0,-1,-1],\n",
        "             [-1,0,0,-1,0,-1],\n",
        "             [-1,0,0,-1,-1,100],\n",
        "             [-1,0,-1,-1,0,100]])"
      ]
    },
    {
      "cell_type": "code",
      "source": [
        "Q=np.matrix(np.zeros([6,6]))"
      ],
      "metadata": {
        "id": "Vp3bGZ3AaEhD"
      },
      "execution_count": 4,
      "outputs": []
    },
    {
      "cell_type": "code",
      "source": [
        "Q"
      ],
      "metadata": {
        "colab": {
          "base_uri": "https://localhost:8080/"
        },
        "id": "xGLkjDltazuW",
        "outputId": "ad9d70e0-a4d0-4540-a6e5-219b0d551226"
      },
      "execution_count": 5,
      "outputs": [
        {
          "output_type": "execute_result",
          "data": {
            "text/plain": [
              "matrix([[0., 0., 0., 0., 0., 0.],\n",
              "        [0., 0., 0., 0., 0., 0.],\n",
              "        [0., 0., 0., 0., 0., 0.],\n",
              "        [0., 0., 0., 0., 0., 0.],\n",
              "        [0., 0., 0., 0., 0., 0.],\n",
              "        [0., 0., 0., 0., 0., 0.]])"
            ]
          },
          "metadata": {},
          "execution_count": 5
        }
      ]
    },
    {
      "cell_type": "code",
      "source": [
        "gamma=0.8\n",
        "initial_state=1"
      ],
      "metadata": {
        "id": "8IYIy8u1a63K"
      },
      "execution_count": 6,
      "outputs": []
    },
    {
      "cell_type": "code",
      "source": [
        "def available_actions(state):\n",
        "  current_state_row=R[state,]\n",
        "  av_act=np.where(current_state_row>=0)[1]\n",
        "  return av_act"
      ],
      "metadata": {
        "id": "5kovzCKHbLyH"
      },
      "execution_count": 10,
      "outputs": []
    },
    {
      "cell_type": "code",
      "source": [
        "available_act=available_actions(initial_state)"
      ],
      "metadata": {
        "id": "REqNggXBb6aK"
      },
      "execution_count": 12,
      "outputs": []
    },
    {
      "cell_type": "code",
      "source": [
        "available_act"
      ],
      "metadata": {
        "colab": {
          "base_uri": "https://localhost:8080/"
        },
        "id": "9Fl5c1q_cE_S",
        "outputId": "73625439-be8b-42d3-8c68-653a27f204ca"
      },
      "execution_count": 13,
      "outputs": [
        {
          "output_type": "execute_result",
          "data": {
            "text/plain": [
              "array([3, 5])"
            ]
          },
          "metadata": {},
          "execution_count": 13
        }
      ]
    },
    {
      "cell_type": "code",
      "source": [
        "def sample_next_action(available_actions_range):\n",
        "  next_action=int(np.random.choice(available_act,1))\n",
        "  return next_action"
      ],
      "metadata": {
        "id": "8bjKqLJEczhf"
      },
      "execution_count": 15,
      "outputs": []
    },
    {
      "cell_type": "code",
      "source": [
        "#sample next action to be performed \n",
        "action=sample_next_action(available_act)"
      ],
      "metadata": {
        "id": "n433UjDpdTRn"
      },
      "execution_count": 16,
      "outputs": []
    },
    {
      "cell_type": "code",
      "source": [
        "action"
      ],
      "metadata": {
        "colab": {
          "base_uri": "https://localhost:8080/"
        },
        "id": "oGHr6jS5fBAM",
        "outputId": "f5c040f4-a3c0-4b8e-c73b-227cece18571"
      },
      "execution_count": 17,
      "outputs": [
        {
          "output_type": "execute_result",
          "data": {
            "text/plain": [
              "3"
            ]
          },
          "metadata": {},
          "execution_count": 17
        }
      ]
    },
    {
      "cell_type": "code",
      "source": [
        "def update(current_state,action,gamma):\n",
        "  max_index=np.where(Q[action,]==np.max(Q[action,]))[1]\n",
        "  if max_index.shape[0]>1:\n",
        "     max_index=int(np.random.choice(max_index,size=1))\n",
        "  else:\n",
        "    max_index=int(max_index)\n",
        "  max_value=Q[action,max_index]\n",
        "\n",
        "  Q[current_state,action]=R[current_state,action]+gamma*max_value\n",
        "\n",
        "update(initial_state,action,gamma)"
      ],
      "metadata": {
        "id": "CbUVW2OsfB-Z"
      },
      "execution_count": 18,
      "outputs": []
    },
    {
      "cell_type": "code",
      "source": [
        "Q"
      ],
      "metadata": {
        "colab": {
          "base_uri": "https://localhost:8080/"
        },
        "id": "4Cjlf6Erh5Ov",
        "outputId": "2749480e-72b0-40dd-c7df-ce7f3d90763c"
      },
      "execution_count": 19,
      "outputs": [
        {
          "output_type": "execute_result",
          "data": {
            "text/plain": [
              "matrix([[0., 0., 0., 0., 0., 0.],\n",
              "        [0., 0., 0., 0., 0., 0.],\n",
              "        [0., 0., 0., 0., 0., 0.],\n",
              "        [0., 0., 0., 0., 0., 0.],\n",
              "        [0., 0., 0., 0., 0., 0.],\n",
              "        [0., 0., 0., 0., 0., 0.]])"
            ]
          },
          "metadata": {},
          "execution_count": 19
        }
      ]
    },
    {
      "cell_type": "code",
      "source": [
        "for i in range(10000):\n",
        "  current_state=np.random.randint(0,int(Q.shape[0]))\n",
        "  available_act=available_actions(current_state)\n",
        "  action=sample_next_action(available_act)\n",
        "  update(current_state,action,gamma)"
      ],
      "metadata": {
        "id": "9B0EC-Cnh6Gz"
      },
      "execution_count": 20,
      "outputs": []
    },
    {
      "cell_type": "code",
      "source": [
        "Q"
      ],
      "metadata": {
        "colab": {
          "base_uri": "https://localhost:8080/"
        },
        "id": "-NCdF4_giubA",
        "outputId": "80a5c6f1-1158-412b-f614-2c54a1f0b9b4"
      },
      "execution_count": 21,
      "outputs": [
        {
          "output_type": "execute_result",
          "data": {
            "text/plain": [
              "matrix([[  0.,   0.,   0.,   0., 400.,   0.],\n",
              "        [  0.,   0.,   0., 320.,   0., 500.],\n",
              "        [  0.,   0.,   0., 320.,   0.,   0.],\n",
              "        [  0., 400., 256.,   0., 400.,   0.],\n",
              "        [  0., 400., 256.,   0.,   0., 500.],\n",
              "        [  0., 400.,   0.,   0., 400., 500.]])"
            ]
          },
          "metadata": {},
          "execution_count": 21
        }
      ]
    },
    {
      "cell_type": "code",
      "source": [
        "#normalize\n",
        "print(\"trained Q matrix\")\n",
        "print(Q/np.max(Q)*100)"
      ],
      "metadata": {
        "colab": {
          "base_uri": "https://localhost:8080/"
        },
        "id": "AzIuPGMoiwfZ",
        "outputId": "2db9463c-2df5-45e4-f897-4319b5834b5a"
      },
      "execution_count": 23,
      "outputs": [
        {
          "output_type": "stream",
          "name": "stdout",
          "text": [
            "trained Q matrix\n",
            "[[  0.    0.    0.    0.   80.    0. ]\n",
            " [  0.    0.    0.   64.    0.  100. ]\n",
            " [  0.    0.    0.   64.    0.    0. ]\n",
            " [  0.   80.   51.2   0.   80.    0. ]\n",
            " [  0.   80.   51.2   0.    0.  100. ]\n",
            " [  0.   80.    0.    0.   80.  100. ]]\n"
          ]
        }
      ]
    },
    {
      "cell_type": "code",
      "source": [],
      "metadata": {
        "id": "-f3ZVjyRjAYm"
      },
      "execution_count": null,
      "outputs": []
    }
  ]
}